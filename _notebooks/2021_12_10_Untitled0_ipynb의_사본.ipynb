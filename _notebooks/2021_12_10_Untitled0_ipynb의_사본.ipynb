{
  "nbformat": 4,
  "nbformat_minor": 0,
  "metadata": {
    "colab": {
      "name": "2021-12-10-Untitled0.ipynb의 사본",
      "provenance": []
    },
    "kernelspec": {
      "name": "python3",
      "display_name": "Python 3"
    },
    "language_info": {
      "name": "python"
    }
  },
  "cells": [
    {
      "cell_type": "markdown",
      "source": [
        "# \"My Title\"\n",
        "> \"Awesome summary\"\n",
        "\n",
        "- toc:true- branch: master\n",
        "- badges: true\n",
        "- comments: true\n",
        "- author: 준형\n",
        "- categories: [abap, test, pli]"
      ],
      "metadata": {
        "id": "7xA1RlmEt2ja"
      }
    },
    {
      "cell_type": "code",
      "source": [
        "*&---------------------------------------------------------------------*\n",
        "*& Report ZBD2_ALV_LIST\n",
        "*&---------------------------------------------------------------------*\n",
        "*&\n",
        "*&---------------------------------------------------------------------*\n",
        "\n",
        "\n",
        "include ZBD2_ALV_LIST_00_01_TOP. . \" For Gloval Variables\n",
        "include ZBD2_ALV_LIST_00_01_CLS. . \" For Class\n",
        "include ZBD2_ALV_LIST_00_01_T01. . \" For ALV data declaration\n",
        "include ZBD2_ALV_LIST_00_01_O01. . \" PBO-Modules\n",
        "include ZBD2_ALV_LIST_00_01_I01. . \" PAI-Modules\n",
        "include ZBD2_ALV_LIST_00_01_F01. . \" For ALV subrution\n",
        "include ZBD2_ALV_LIST_00_01_F02. . \" For User subrution\n",
        "\n",
        "\n",
        "*----------------------------------------------------------------------*\n",
        "* INITIALIZATION                                                       *\n",
        "*----------------------------------------------------------------------*\n",
        "INITIALIZATION.\n",
        "\n",
        "*----------------------------------------------------------------------*\n",
        "* AT SELECTION-SCREEN                                                  *\n",
        "*----------------------------------------------------------------------*\n",
        "AT SELECTION-SCREEN OUTPUT.\n",
        "\n",
        "*----------------------------------------------------------------------*\n",
        "* AT SELECTION-SCREEN                                                  *\n",
        "*----------------------------------------------------------------------*\n",
        "AT SELECTION-SCREEN.\n",
        "\n",
        "*----------------------------------------------------------------------*\n",
        "* START-OF-SELECTION                                                   *\n",
        "*----------------------------------------------------------------------*\n",
        "START-OF-SELECTION.\n",
        "\n",
        "  PERFORM SELECT_DATA.\n",
        "\n",
        "\n",
        "\n",
        "*----------------------------------------------------------------------*\n",
        "* END-OF-SELECTION                                                     *\n",
        "*----------------------------------------------------------------------*\n",
        "END-OF-SELECTION.\n",
        "\n",
        "  PERFORM call_screen_100.\n",
        "\n",
        "*GUI Texts\n",
        "*----------------------------------------------------------\n",
        "* T100 --> Class ALV Templete(Custom Container)\n",
        "* T100 --> Class ALV Templete(Custom Container)\n",
        "\n",
        "*Text elements\n",
        "*----------------------------------------------------------\n",
        "* E04 ### ### ##### ###.\n",
        "* Q01 [####]\n",
        "* Q02 #\n",
        "* Q03 ###\n",
        "\n",
        "\n",
        "*Messages\n",
        "*----------------------------------------------------------\n",
        "*\n",
        "* Message class: BC400\n",
        "*000   Object already locked\n",
        "*040   Name of carrier &1 is &2\n",
        "*041   Airline &1 does not exist"
      ],
      "metadata": {
        "id": "k9iuNGcJo_bC"
      },
      "execution_count": null,
      "outputs": []
    }
  ]
}